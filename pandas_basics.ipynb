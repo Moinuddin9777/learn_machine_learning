{
 "cells": [
  {
   "cell_type": "markdown",
   "id": "38c459fb",
   "metadata": {
    "papermill": {
     "duration": 0.033002,
     "end_time": "2022-05-04T13:56:00.072943",
     "exception": false,
     "start_time": "2022-05-04T13:56:00.039941",
     "status": "completed"
    },
    "tags": []
   },
   "source": [
    "Learn the basics on the pandas python library in this tutorial!"
   ]
  },
  {
   "cell_type": "code",
   "execution_count": null,
   "id": "4899666d",
   "metadata": {
    "execution": {
     "iopub.execute_input": "2022-05-04T13:56:00.145969Z",
     "iopub.status.busy": "2022-05-04T13:56:00.139699Z",
     "iopub.status.idle": "2022-05-04T13:56:00.150476Z",
     "shell.execute_reply": "2022-05-04T13:56:00.149777Z",
     "shell.execute_reply.started": "2021-12-26T17:12:28.988439Z"
    },
    "papermill": {
     "duration": 0.045675,
     "end_time": "2022-05-04T13:56:00.150663",
     "exception": false,
     "start_time": "2022-05-04T13:56:00.104988",
     "status": "completed"
    },
    "tags": []
   },
   "outputs": [],
   "source": [
    "import pandas as pd\n",
    "import numpy as np"
   ]
  },
  {
   "cell_type": "markdown",
   "id": "8fda6764",
   "metadata": {
    "papermill": {
     "duration": 0.03076,
     "end_time": "2022-05-04T13:56:00.213557",
     "exception": false,
     "start_time": "2022-05-04T13:56:00.182797",
     "status": "completed"
    },
    "tags": []
   },
   "source": [
    "## Series"
   ]
  },
  {
   "cell_type": "code",
   "execution_count": null,
   "id": "55c55457",
   "metadata": {
    "execution": {
     "iopub.execute_input": "2022-05-04T13:56:00.285993Z",
     "iopub.status.busy": "2022-05-04T13:56:00.284918Z",
     "iopub.status.idle": "2022-05-04T13:56:00.287810Z",
     "shell.execute_reply": "2022-05-04T13:56:00.287210Z",
     "shell.execute_reply.started": "2021-12-26T17:12:28.999964Z"
    },
    "papermill": {
     "duration": 0.042862,
     "end_time": "2022-05-04T13:56:00.287957",
     "exception": false,
     "start_time": "2022-05-04T13:56:00.245095",
     "status": "completed"
    },
    "tags": []
   },
   "outputs": [],
   "source": [
    "mydata = ['Boat', 'Car', 'Bike', 'Truck']\n",
    "\n",
    "myseries1 = pd.Series(mydata)"
   ]
  },
  {
   "cell_type": "code",
   "execution_count": null,
   "id": "5db004a8",
   "metadata": {
    "execution": {
     "iopub.execute_input": "2022-05-04T13:56:00.357078Z",
     "iopub.status.busy": "2022-05-04T13:56:00.356151Z",
     "iopub.status.idle": "2022-05-04T13:56:00.359780Z",
     "shell.execute_reply": "2022-05-04T13:56:00.360299Z",
     "shell.execute_reply.started": "2021-12-26T17:12:29.018304Z"
    },
    "papermill": {
     "duration": 0.041015,
     "end_time": "2022-05-04T13:56:00.360517",
     "exception": false,
     "start_time": "2022-05-04T13:56:00.319502",
     "status": "completed"
    },
    "tags": []
   },
   "outputs": [],
   "source": [
    "print(myseries1)"
   ]
  },
  {
   "cell_type": "code",
   "execution_count": null,
   "id": "d6d0d687",
   "metadata": {
    "execution": {
     "iopub.execute_input": "2022-05-04T13:56:00.430894Z",
     "iopub.status.busy": "2022-05-04T13:56:00.429974Z",
     "iopub.status.idle": "2022-05-04T13:56:00.433192Z",
     "shell.execute_reply": "2022-05-04T13:56:00.433897Z",
     "shell.execute_reply.started": "2021-12-26T17:12:29.035861Z"
    },
    "papermill": {
     "duration": 0.041309,
     "end_time": "2022-05-04T13:56:00.434117",
     "exception": false,
     "start_time": "2022-05-04T13:56:00.392808",
     "status": "completed"
    },
    "tags": []
   },
   "outputs": [],
   "source": [
    "mydata = [1, 55, 99, 43]\n",
    "myseries2 = pd.Series(mydata)\n",
    "print(myseries2)"
   ]
  },
  {
   "cell_type": "markdown",
   "id": "cce62cfc",
   "metadata": {
    "papermill": {
     "duration": 0.031384,
     "end_time": "2022-05-04T13:56:00.499791",
     "exception": false,
     "start_time": "2022-05-04T13:56:00.468407",
     "status": "completed"
    },
    "tags": []
   },
   "source": [
    "## DataFrame"
   ]
  },
  {
   "cell_type": "code",
   "execution_count": null,
   "id": "46f89f58",
   "metadata": {
    "execution": {
     "iopub.execute_input": "2022-05-04T13:56:00.576063Z",
     "iopub.status.busy": "2022-05-04T13:56:00.575338Z",
     "iopub.status.idle": "2022-05-04T13:56:00.587172Z",
     "shell.execute_reply": "2022-05-04T13:56:00.587751Z",
     "shell.execute_reply.started": "2021-12-26T17:12:29.05434Z"
    },
    "papermill": {
     "duration": 0.054933,
     "end_time": "2022-05-04T13:56:00.587937",
     "exception": false,
     "start_time": "2022-05-04T13:56:00.533004",
     "status": "completed"
    },
    "tags": []
   },
   "outputs": [],
   "source": [
    "mydfdata = [('Boat', 1), ('Car', 55), ('Bike',99), ('Truck', 43)]\n",
    "\n",
    "mydf = pd.DataFrame(mydfdata, columns=['thing', 'count'])\n",
    "\n",
    "mydf"
   ]
  },
  {
   "cell_type": "code",
   "execution_count": null,
   "id": "5e855808",
   "metadata": {
    "execution": {
     "iopub.execute_input": "2022-05-04T13:56:00.656045Z",
     "iopub.status.busy": "2022-05-04T13:56:00.655338Z",
     "iopub.status.idle": "2022-05-04T13:56:00.660776Z",
     "shell.execute_reply": "2022-05-04T13:56:00.661318Z",
     "shell.execute_reply.started": "2021-12-26T17:12:29.08264Z"
    },
    "papermill": {
     "duration": 0.041455,
     "end_time": "2022-05-04T13:56:00.661505",
     "exception": false,
     "start_time": "2022-05-04T13:56:00.620050",
     "status": "completed"
    },
    "tags": []
   },
   "outputs": [],
   "source": [
    "mydf.dtypes"
   ]
  },
  {
   "cell_type": "markdown",
   "id": "242381de",
   "metadata": {
    "papermill": {
     "duration": 0.032476,
     "end_time": "2022-05-04T13:56:00.726884",
     "exception": false,
     "start_time": "2022-05-04T13:56:00.694408",
     "status": "completed"
    },
    "tags": []
   },
   "source": [
    "# Reading in Data"
   ]
  },
  {
   "cell_type": "code",
   "execution_count": null,
   "id": "bdff490a",
   "metadata": {
    "execution": {
     "iopub.execute_input": "2022-05-04T13:56:00.795858Z",
     "iopub.status.busy": "2022-05-04T13:56:00.795178Z",
     "iopub.status.idle": "2022-05-04T13:56:00.818275Z",
     "shell.execute_reply": "2022-05-04T13:56:00.818861Z",
     "shell.execute_reply.started": "2021-12-26T17:12:29.091598Z"
    },
    "papermill": {
     "duration": 0.059182,
     "end_time": "2022-05-04T13:56:00.819044",
     "exception": false,
     "start_time": "2022-05-04T13:56:00.759862",
     "status": "completed"
    },
    "tags": []
   },
   "outputs": [],
   "source": [
    "df = pd.read_csv('../input/mr-beast-youtube-video-statistics/MrBeast_youtube_stats.csv')"
   ]
  },
  {
   "cell_type": "markdown",
   "id": "4cf87bba",
   "metadata": {
    "papermill": {
     "duration": 0.03201,
     "end_time": "2022-05-04T13:56:00.883861",
     "exception": false,
     "start_time": "2022-05-04T13:56:00.851851",
     "status": "completed"
    },
    "tags": []
   },
   "source": [
    "# Inspect The Data"
   ]
  },
  {
   "cell_type": "code",
   "execution_count": null,
   "id": "17fa040e",
   "metadata": {
    "execution": {
     "iopub.execute_input": "2022-05-04T13:56:00.952230Z",
     "iopub.status.busy": "2022-05-04T13:56:00.951595Z",
     "iopub.status.idle": "2022-05-04T13:56:00.981757Z",
     "shell.execute_reply": "2022-05-04T13:56:00.982250Z",
     "shell.execute_reply.started": "2021-12-26T17:12:29.127454Z"
    },
    "papermill": {
     "duration": 0.066418,
     "end_time": "2022-05-04T13:56:00.982437",
     "exception": false,
     "start_time": "2022-05-04T13:56:00.916019",
     "status": "completed"
    },
    "tags": []
   },
   "outputs": [],
   "source": [
    "# Head / Tail\n",
    "df.head()"
   ]
  },
  {
   "cell_type": "code",
   "execution_count": null,
   "id": "2c3b9e00",
   "metadata": {
    "execution": {
     "iopub.execute_input": "2022-05-04T13:56:01.053017Z",
     "iopub.status.busy": "2022-05-04T13:56:01.052044Z",
     "iopub.status.idle": "2022-05-04T13:56:01.078398Z",
     "shell.execute_reply": "2022-05-04T13:56:01.078920Z",
     "shell.execute_reply.started": "2021-12-26T17:12:29.162328Z"
    },
    "papermill": {
     "duration": 0.063303,
     "end_time": "2022-05-04T13:56:01.079092",
     "exception": false,
     "start_time": "2022-05-04T13:56:01.015789",
     "status": "completed"
    },
    "tags": []
   },
   "outputs": [],
   "source": [
    "df.tail()"
   ]
  },
  {
   "cell_type": "code",
   "execution_count": null,
   "id": "0adc0d26",
   "metadata": {
    "execution": {
     "iopub.execute_input": "2022-05-04T13:56:01.151025Z",
     "iopub.status.busy": "2022-05-04T13:56:01.150067Z",
     "iopub.status.idle": "2022-05-04T13:56:01.158009Z",
     "shell.execute_reply": "2022-05-04T13:56:01.157435Z",
     "shell.execute_reply.started": "2021-12-26T17:12:29.192788Z"
    },
    "papermill": {
     "duration": 0.045123,
     "end_time": "2022-05-04T13:56:01.158150",
     "exception": false,
     "start_time": "2022-05-04T13:56:01.113027",
     "status": "completed"
    },
    "tags": []
   },
   "outputs": [],
   "source": [
    "df.dtypes"
   ]
  },
  {
   "cell_type": "code",
   "execution_count": null,
   "id": "af2b9ee2",
   "metadata": {
    "execution": {
     "iopub.execute_input": "2022-05-04T13:56:01.230886Z",
     "iopub.status.busy": "2022-05-04T13:56:01.229912Z",
     "iopub.status.idle": "2022-05-04T13:56:01.280816Z",
     "shell.execute_reply": "2022-05-04T13:56:01.280239Z",
     "shell.execute_reply.started": "2021-12-26T17:12:29.201062Z"
    },
    "papermill": {
     "duration": 0.08823,
     "end_time": "2022-05-04T13:56:01.280963",
     "exception": false,
     "start_time": "2022-05-04T13:56:01.192733",
     "status": "completed"
    },
    "tags": []
   },
   "outputs": [],
   "source": [
    "df.describe()"
   ]
  },
  {
   "cell_type": "markdown",
   "id": "8f29b39a",
   "metadata": {
    "papermill": {
     "duration": 0.035079,
     "end_time": "2022-05-04T13:56:01.352266",
     "exception": false,
     "start_time": "2022-05-04T13:56:01.317187",
     "status": "completed"
    },
    "tags": []
   },
   "source": [
    "# Columns and Rows"
   ]
  },
  {
   "cell_type": "code",
   "execution_count": null,
   "id": "620a05d4",
   "metadata": {
    "execution": {
     "iopub.execute_input": "2022-05-04T13:56:01.428335Z",
     "iopub.status.busy": "2022-05-04T13:56:01.427358Z",
     "iopub.status.idle": "2022-05-04T13:56:01.435111Z",
     "shell.execute_reply": "2022-05-04T13:56:01.435841Z",
     "shell.execute_reply.started": "2021-12-26T17:12:29.257034Z"
    },
    "papermill": {
     "duration": 0.047267,
     "end_time": "2022-05-04T13:56:01.436019",
     "exception": false,
     "start_time": "2022-05-04T13:56:01.388752",
     "status": "completed"
    },
    "tags": []
   },
   "outputs": [],
   "source": [
    "df['viewCount']"
   ]
  },
  {
   "cell_type": "code",
   "execution_count": null,
   "id": "25bbfb93",
   "metadata": {
    "execution": {
     "iopub.execute_input": "2022-05-04T13:56:01.511373Z",
     "iopub.status.busy": "2022-05-04T13:56:01.510395Z",
     "iopub.status.idle": "2022-05-04T13:56:01.517872Z",
     "shell.execute_reply": "2022-05-04T13:56:01.518431Z",
     "shell.execute_reply.started": "2021-12-26T17:12:29.266787Z"
    },
    "papermill": {
     "duration": 0.047053,
     "end_time": "2022-05-04T13:56:01.518605",
     "exception": false,
     "start_time": "2022-05-04T13:56:01.471552",
     "status": "completed"
    },
    "tags": []
   },
   "outputs": [],
   "source": [
    "df.loc[4]"
   ]
  },
  {
   "cell_type": "code",
   "execution_count": null,
   "id": "50519201",
   "metadata": {
    "execution": {
     "iopub.execute_input": "2022-05-04T13:56:01.596147Z",
     "iopub.status.busy": "2022-05-04T13:56:01.595160Z",
     "iopub.status.idle": "2022-05-04T13:56:01.600192Z",
     "shell.execute_reply": "2022-05-04T13:56:01.600743Z",
     "shell.execute_reply.started": "2021-12-26T17:12:29.286838Z"
    },
    "papermill": {
     "duration": 0.045036,
     "end_time": "2022-05-04T13:56:01.600924",
     "exception": false,
     "start_time": "2022-05-04T13:56:01.555888",
     "status": "completed"
    },
    "tags": []
   },
   "outputs": [],
   "source": [
    "df = df.set_index('id')"
   ]
  },
  {
   "cell_type": "markdown",
   "id": "10e6c5bb",
   "metadata": {
    "papermill": {
     "duration": 0.035998,
     "end_time": "2022-05-04T13:56:01.673052",
     "exception": false,
     "start_time": "2022-05-04T13:56:01.637054",
     "status": "completed"
    },
    "tags": []
   },
   "source": [
    "# Subsetting Data"
   ]
  },
  {
   "cell_type": "code",
   "execution_count": null,
   "id": "b7d5a87b",
   "metadata": {
    "execution": {
     "iopub.execute_input": "2022-05-04T13:56:01.750345Z",
     "iopub.status.busy": "2022-05-04T13:56:01.749301Z",
     "iopub.status.idle": "2022-05-04T13:56:01.755054Z",
     "shell.execute_reply": "2022-05-04T13:56:01.755694Z",
     "shell.execute_reply.started": "2021-12-26T17:12:29.301607Z"
    },
    "papermill": {
     "duration": 0.045765,
     "end_time": "2022-05-04T13:56:01.755887",
     "exception": false,
     "start_time": "2022-05-04T13:56:01.710122",
     "status": "completed"
    },
    "tags": []
   },
   "outputs": [],
   "source": [
    "df.shape"
   ]
  },
  {
   "cell_type": "code",
   "execution_count": null,
   "id": "a85bf076",
   "metadata": {
    "execution": {
     "iopub.execute_input": "2022-05-04T13:56:01.835989Z",
     "iopub.status.busy": "2022-05-04T13:56:01.835324Z",
     "iopub.status.idle": "2022-05-04T13:56:01.839859Z",
     "shell.execute_reply": "2022-05-04T13:56:01.839202Z",
     "shell.execute_reply.started": "2021-12-26T17:12:29.320219Z"
    },
    "papermill": {
     "duration": 0.047137,
     "end_time": "2022-05-04T13:56:01.840020",
     "exception": false,
     "start_time": "2022-05-04T13:56:01.792883",
     "status": "completed"
    },
    "tags": []
   },
   "outputs": [],
   "source": [
    "# Subsetting Columns\n",
    "df = df[['title', 'description', 'publishTime',\n",
    "         'duration_seconds', 'viewCount', 'likeCount',\n",
    "         'commentCount']]"
   ]
  },
  {
   "cell_type": "code",
   "execution_count": null,
   "id": "432f886b",
   "metadata": {
    "execution": {
     "iopub.execute_input": "2022-05-04T13:56:01.921659Z",
     "iopub.status.busy": "2022-05-04T13:56:01.920937Z",
     "iopub.status.idle": "2022-05-04T13:56:01.923864Z",
     "shell.execute_reply": "2022-05-04T13:56:01.923204Z",
     "shell.execute_reply.started": "2021-12-26T17:12:29.341465Z"
    },
    "papermill": {
     "duration": 0.045114,
     "end_time": "2022-05-04T13:56:01.924008",
     "exception": false,
     "start_time": "2022-05-04T13:56:01.878894",
     "status": "completed"
    },
    "tags": []
   },
   "outputs": [],
   "source": [
    "# Subsetting using loc\n",
    "df_subset1 = df.loc[df['viewCount'] > 1_000_000]"
   ]
  },
  {
   "cell_type": "code",
   "execution_count": null,
   "id": "b0e807b2",
   "metadata": {
    "execution": {
     "iopub.execute_input": "2022-05-04T13:56:02.005840Z",
     "iopub.status.busy": "2022-05-04T13:56:02.005132Z",
     "iopub.status.idle": "2022-05-04T13:56:02.008182Z",
     "shell.execute_reply": "2022-05-04T13:56:02.008718Z",
     "shell.execute_reply.started": "2021-12-26T17:12:29.353844Z"
    },
    "papermill": {
     "duration": 0.048103,
     "end_time": "2022-05-04T13:56:02.008907",
     "exception": false,
     "start_time": "2022-05-04T13:56:01.960804",
     "status": "completed"
    },
    "tags": []
   },
   "outputs": [],
   "source": [
    "df_subset2 = df.query('viewCount > 1000000')"
   ]
  },
  {
   "cell_type": "code",
   "execution_count": null,
   "id": "8fe5a3eb",
   "metadata": {
    "execution": {
     "iopub.execute_input": "2022-05-04T13:56:02.086613Z",
     "iopub.status.busy": "2022-05-04T13:56:02.085848Z",
     "iopub.status.idle": "2022-05-04T13:56:02.090786Z",
     "shell.execute_reply": "2022-05-04T13:56:02.091339Z",
     "shell.execute_reply.started": "2021-12-26T17:12:29.370793Z"
    },
    "papermill": {
     "duration": 0.046046,
     "end_time": "2022-05-04T13:56:02.091556",
     "exception": false,
     "start_time": "2022-05-04T13:56:02.045510",
     "status": "completed"
    },
    "tags": []
   },
   "outputs": [],
   "source": [
    "df = df.loc[~df['likeCount'].isna()]"
   ]
  },
  {
   "cell_type": "markdown",
   "id": "367ce250",
   "metadata": {
    "papermill": {
     "duration": 0.035897,
     "end_time": "2022-05-04T13:56:02.164236",
     "exception": false,
     "start_time": "2022-05-04T13:56:02.128339",
     "status": "completed"
    },
    "tags": []
   },
   "source": [
    "# Casting dtypes"
   ]
  },
  {
   "cell_type": "code",
   "execution_count": null,
   "id": "de09e29e",
   "metadata": {
    "execution": {
     "iopub.execute_input": "2022-05-04T13:56:02.241057Z",
     "iopub.status.busy": "2022-05-04T13:56:02.240064Z",
     "iopub.status.idle": "2022-05-04T13:56:02.246075Z",
     "shell.execute_reply": "2022-05-04T13:56:02.246648Z",
     "shell.execute_reply.started": "2021-12-26T17:14:53.234278Z"
    },
    "papermill": {
     "duration": 0.046196,
     "end_time": "2022-05-04T13:56:02.246821",
     "exception": false,
     "start_time": "2022-05-04T13:56:02.200625",
     "status": "completed"
    },
    "tags": []
   },
   "outputs": [],
   "source": [
    "df['viewCount'] = df['viewCount'].astype('int')\n",
    "df['likeCount'] = df['likeCount'].astype('int')"
   ]
  },
  {
   "cell_type": "code",
   "execution_count": null,
   "id": "af9ea658",
   "metadata": {
    "execution": {
     "iopub.execute_input": "2022-05-04T13:56:02.323967Z",
     "iopub.status.busy": "2022-05-04T13:56:02.323027Z",
     "iopub.status.idle": "2022-05-04T13:56:02.328122Z",
     "shell.execute_reply": "2022-05-04T13:56:02.328726Z",
     "shell.execute_reply.started": "2021-12-26T17:16:13.047615Z"
    },
    "papermill": {
     "duration": 0.045424,
     "end_time": "2022-05-04T13:56:02.328908",
     "exception": false,
     "start_time": "2022-05-04T13:56:02.283484",
     "status": "completed"
    },
    "tags": []
   },
   "outputs": [],
   "source": [
    "df['publishTime'] = pd.to_datetime(df['publishTime'])"
   ]
  },
  {
   "cell_type": "code",
   "execution_count": null,
   "id": "15d118fc",
   "metadata": {
    "execution": {
     "iopub.execute_input": "2022-05-04T13:56:02.405535Z",
     "iopub.status.busy": "2022-05-04T13:56:02.404575Z",
     "iopub.status.idle": "2022-05-04T13:56:02.410212Z",
     "shell.execute_reply": "2022-05-04T13:56:02.410771Z",
     "shell.execute_reply.started": "2021-12-26T17:17:14.024116Z"
    },
    "papermill": {
     "duration": 0.045818,
     "end_time": "2022-05-04T13:56:02.410956",
     "exception": false,
     "start_time": "2022-05-04T13:56:02.365138",
     "status": "completed"
    },
    "tags": []
   },
   "outputs": [],
   "source": [
    "df['likeCount'] = pd.to_numeric(df['likeCount'].astype('str'))"
   ]
  },
  {
   "cell_type": "markdown",
   "id": "f070c9b0",
   "metadata": {
    "papermill": {
     "duration": 0.036181,
     "end_time": "2022-05-04T13:56:02.483776",
     "exception": false,
     "start_time": "2022-05-04T13:56:02.447595",
     "status": "completed"
    },
    "tags": []
   },
   "source": [
    "# Creating new column"
   ]
  },
  {
   "cell_type": "code",
   "execution_count": null,
   "id": "86bc9284",
   "metadata": {
    "execution": {
     "iopub.execute_input": "2022-05-04T13:56:02.561845Z",
     "iopub.status.busy": "2022-05-04T13:56:02.560851Z",
     "iopub.status.idle": "2022-05-04T13:56:02.566003Z",
     "shell.execute_reply": "2022-05-04T13:56:02.566560Z",
     "shell.execute_reply.started": "2021-12-26T17:19:52.359909Z"
    },
    "papermill": {
     "duration": 0.04678,
     "end_time": "2022-05-04T13:56:02.566731",
     "exception": false,
     "start_time": "2022-05-04T13:56:02.519951",
     "status": "completed"
    },
    "tags": []
   },
   "outputs": [],
   "source": [
    "df['like_to_view_ratio'] = df['likeCount'] / df['viewCount']"
   ]
  },
  {
   "cell_type": "markdown",
   "id": "d937f2c3",
   "metadata": {
    "execution": {
     "iopub.execute_input": "2021-12-26T17:19:56.6059Z",
     "iopub.status.busy": "2021-12-26T17:19:56.605321Z",
     "iopub.status.idle": "2021-12-26T17:19:56.61809Z",
     "shell.execute_reply": "2021-12-26T17:19:56.61661Z",
     "shell.execute_reply.started": "2021-12-26T17:19:56.605874Z"
    },
    "papermill": {
     "duration": 0.03597,
     "end_time": "2022-05-04T13:56:02.639245",
     "exception": false,
     "start_time": "2022-05-04T13:56:02.603275",
     "status": "completed"
    },
    "tags": []
   },
   "source": [
    "# Adding new Row"
   ]
  },
  {
   "cell_type": "code",
   "execution_count": null,
   "id": "343ac7c4",
   "metadata": {
    "execution": {
     "iopub.execute_input": "2022-05-04T13:56:02.715884Z",
     "iopub.status.busy": "2022-05-04T13:56:02.714919Z",
     "iopub.status.idle": "2022-05-04T13:56:02.718901Z",
     "shell.execute_reply": "2022-05-04T13:56:02.719525Z",
     "shell.execute_reply.started": "2021-12-26T17:20:59.677744Z"
    },
    "papermill": {
     "duration": 0.044025,
     "end_time": "2022-05-04T13:56:02.719692",
     "exception": false,
     "start_time": "2022-05-04T13:56:02.675667",
     "status": "completed"
    },
    "tags": []
   },
   "outputs": [],
   "source": [
    "df_to_append = df.tail(1)"
   ]
  },
  {
   "cell_type": "code",
   "execution_count": null,
   "id": "bafe879f",
   "metadata": {
    "execution": {
     "iopub.execute_input": "2022-05-04T13:56:02.797097Z",
     "iopub.status.busy": "2022-05-04T13:56:02.796098Z",
     "iopub.status.idle": "2022-05-04T13:56:02.801652Z",
     "shell.execute_reply": "2022-05-04T13:56:02.802240Z",
     "shell.execute_reply.started": "2021-12-26T17:21:46.566919Z"
    },
    "papermill": {
     "duration": 0.046091,
     "end_time": "2022-05-04T13:56:02.802435",
     "exception": false,
     "start_time": "2022-05-04T13:56:02.756344",
     "status": "completed"
    },
    "tags": []
   },
   "outputs": [],
   "source": [
    "df_concat = pd.concat([df, df_to_append])"
   ]
  },
  {
   "cell_type": "markdown",
   "id": "861cb4ac",
   "metadata": {
    "papermill": {
     "duration": 0.03621,
     "end_time": "2022-05-04T13:56:02.875095",
     "exception": false,
     "start_time": "2022-05-04T13:56:02.838885",
     "status": "completed"
    },
    "tags": []
   },
   "source": [
    "# Plot Examples"
   ]
  },
  {
   "cell_type": "code",
   "execution_count": null,
   "id": "b9185817",
   "metadata": {
    "execution": {
     "iopub.execute_input": "2022-05-04T13:56:02.953241Z",
     "iopub.status.busy": "2022-05-04T13:56:02.952488Z",
     "iopub.status.idle": "2022-05-04T13:56:02.958381Z",
     "shell.execute_reply": "2022-05-04T13:56:02.957839Z",
     "shell.execute_reply.started": "2021-12-26T17:23:10.730662Z"
    },
    "papermill": {
     "duration": 0.04724,
     "end_time": "2022-05-04T13:56:02.958570",
     "exception": false,
     "start_time": "2022-05-04T13:56:02.911330",
     "status": "completed"
    },
    "tags": []
   },
   "outputs": [],
   "source": [
    "import matplotlib.pylab as plt\n",
    "plt.style.use('ggplot')"
   ]
  },
  {
   "cell_type": "code",
   "execution_count": null,
   "id": "b69a9514",
   "metadata": {
    "execution": {
     "iopub.execute_input": "2022-05-04T13:56:03.036073Z",
     "iopub.status.busy": "2022-05-04T13:56:03.035344Z",
     "iopub.status.idle": "2022-05-04T13:56:03.423913Z",
     "shell.execute_reply": "2022-05-04T13:56:03.423320Z",
     "shell.execute_reply.started": "2021-12-26T17:24:15.006013Z"
    },
    "papermill": {
     "duration": 0.428476,
     "end_time": "2022-05-04T13:56:03.424055",
     "exception": false,
     "start_time": "2022-05-04T13:56:02.995579",
     "status": "completed"
    },
    "tags": []
   },
   "outputs": [],
   "source": [
    "df['viewCount'].plot(kind='hist', bins=50,\n",
    "                     title='Distribution of View Count',\n",
    "                     figsize=(15, 5))"
   ]
  },
  {
   "cell_type": "code",
   "execution_count": null,
   "id": "cf6724e5",
   "metadata": {
    "execution": {
     "iopub.execute_input": "2022-05-04T13:56:03.505913Z",
     "iopub.status.busy": "2022-05-04T13:56:03.505211Z",
     "iopub.status.idle": "2022-05-04T13:56:03.876911Z",
     "shell.execute_reply": "2022-05-04T13:56:03.876273Z",
     "shell.execute_reply.started": "2021-12-26T17:25:12.719119Z"
    },
    "papermill": {
     "duration": 0.414773,
     "end_time": "2022-05-04T13:56:03.877060",
     "exception": false,
     "start_time": "2022-05-04T13:56:03.462287",
     "status": "completed"
    },
    "tags": []
   },
   "outputs": [],
   "source": [
    "df.plot(kind='scatter', x='viewCount', y='likeCount', title='View vs Like Count')"
   ]
  },
  {
   "cell_type": "code",
   "execution_count": null,
   "id": "e69a9c8d",
   "metadata": {
    "execution": {
     "iopub.execute_input": "2022-05-04T13:56:03.959410Z",
     "iopub.status.busy": "2022-05-04T13:56:03.958681Z",
     "iopub.status.idle": "2022-05-04T13:56:03.976489Z",
     "shell.execute_reply": "2022-05-04T13:56:03.977037Z",
     "shell.execute_reply.started": "2021-12-26T17:27:06.295011Z"
    },
    "papermill": {
     "duration": 0.060284,
     "end_time": "2022-05-04T13:56:03.977213",
     "exception": false,
     "start_time": "2022-05-04T13:56:03.916929",
     "status": "completed"
    },
    "tags": []
   },
   "outputs": [],
   "source": [
    "df.query('likeCount > 10000000')"
   ]
  },
  {
   "cell_type": "markdown",
   "id": "bb3f92bf",
   "metadata": {
    "papermill": {
     "duration": 0.039312,
     "end_time": "2022-05-04T13:56:04.057242",
     "exception": false,
     "start_time": "2022-05-04T13:56:04.017930",
     "status": "completed"
    },
    "tags": []
   },
   "source": [
    "## Save our output"
   ]
  },
  {
   "cell_type": "code",
   "execution_count": null,
   "id": "db77b4b5",
   "metadata": {
    "execution": {
     "iopub.execute_input": "2022-05-04T13:56:04.140708Z",
     "iopub.status.busy": "2022-05-04T13:56:04.140063Z",
     "iopub.status.idle": "2022-05-04T13:56:04.151753Z",
     "shell.execute_reply": "2022-05-04T13:56:04.152370Z",
     "shell.execute_reply.started": "2021-12-26T17:28:09.073539Z"
    },
    "papermill": {
     "duration": 0.054666,
     "end_time": "2022-05-04T13:56:04.152570",
     "exception": false,
     "start_time": "2022-05-04T13:56:04.097904",
     "status": "completed"
    },
    "tags": []
   },
   "outputs": [],
   "source": [
    "df.to_csv('processed_data.csv')"
   ]
  },
  {
   "cell_type": "code",
   "execution_count": null,
   "id": "a853e526",
   "metadata": {
    "papermill": {
     "duration": 0.039102,
     "end_time": "2022-05-04T13:56:04.231233",
     "exception": false,
     "start_time": "2022-05-04T13:56:04.192131",
     "status": "completed"
    },
    "tags": []
   },
   "outputs": [],
   "source": []
  },
  {
   "cell_type": "code",
   "execution_count": null,
   "id": "f91cfd87",
   "metadata": {
    "papermill": {
     "duration": 0.040164,
     "end_time": "2022-05-04T13:56:04.310861",
     "exception": false,
     "start_time": "2022-05-04T13:56:04.270697",
     "status": "completed"
    },
    "tags": []
   },
   "outputs": [],
   "source": []
  },
  {
   "cell_type": "code",
   "execution_count": null,
   "id": "75ab7dea",
   "metadata": {
    "papermill": {
     "duration": 0.039934,
     "end_time": "2022-05-04T13:56:04.391864",
     "exception": false,
     "start_time": "2022-05-04T13:56:04.351930",
     "status": "completed"
    },
    "tags": []
   },
   "outputs": [],
   "source": []
  }
 ],
 "metadata": {
  "kernelspec": {
   "display_name": "Python 3",
   "language": "python",
   "name": "python3"
  },
  "language_info": {
   "codemirror_mode": {
    "name": "ipython",
    "version": 3
   },
   "file_extension": ".py",
   "mimetype": "text/x-python",
   "name": "python",
   "nbconvert_exporter": "python",
   "pygments_lexer": "ipython3",
   "version": "3.7.12"
  },
  "papermill": {
   "default_parameters": {},
   "duration": 15.242257,
   "end_time": "2022-05-04T13:56:05.041085",
   "environment_variables": {},
   "exception": null,
   "input_path": "__notebook__.ipynb",
   "output_path": "__notebook__.ipynb",
   "parameters": {},
   "start_time": "2022-05-04T13:55:49.798828",
   "version": "2.3.3"
  }
 },
 "nbformat": 4,
 "nbformat_minor": 5
}
